{
 "cells": [
  {
   "cell_type": "markdown",
   "metadata": {},
   "source": [
    "# Nino box example"
   ]
  },
  {
   "cell_type": "code",
   "execution_count": null,
   "metadata": {},
   "outputs": [],
   "source": [
    "import xarray as xr\n",
    "import cartopy.crs as ccrs\n",
    "import matplotlib.pylab as plt\n",
    "import numpy as np\n",
    "from matplotlib import cm\n",
    "import pyresample"
   ]
  },
  {
   "cell_type": "code",
   "execution_count": null,
   "metadata": {},
   "outputs": [],
   "source": [
    "%matplotlib inline"
   ]
  },
  {
   "cell_type": "code",
   "execution_count": null,
   "metadata": {},
   "outputs": [],
   "source": [
    "opendap_data_url = 'http://esgf-data2.diasjp.net/thredds/dodsC/esg_dataroot/CMIP6/CMIP/MIROC/MIROC6/historical/r1i1p1f1/Omon/tos/gn/v20181212/tos_Omon_MIROC6_historical_r1i1p1f1_gn_195001-201412.nc'"
   ]
  },
  {
   "cell_type": "markdown",
   "metadata": {},
   "source": [
    "## Load data from the opendap server into a dataarray"
   ]
  },
  {
   "cell_type": "code",
   "execution_count": null,
   "metadata": {},
   "outputs": [],
   "source": [
    "ds = xr.open_dataset(opendap_data_url)"
   ]
  },
  {
   "cell_type": "markdown",
   "metadata": {},
   "source": [
    "xarray have built-in functions and cartopy integration but they are limited, definitely not publication-type plots"
   ]
  },
  {
   "cell_type": "code",
   "execution_count": null,
   "metadata": {},
   "outputs": [],
   "source": [
    "ds.sel(time='1967-06')['tos'].plot(vmin=-2, vmax=32, cmap='gist_ncar')"
   ]
  },
  {
   "cell_type": "markdown",
   "metadata": {},
   "source": [
    "For that, we want to extract the data and plot it with the cartopy package. Cartopy doesn't like the discontinuity in longitude\n",
    "so we're gonna remap onto a regular grid. Another option is to roll along longitude but the number of cells to roll is not constant when approching the north end and requires a find per line which is not very efficient in xaray."
   ]
  },
  {
   "cell_type": "markdown",
   "metadata": {},
   "source": [
    "### Plotting functions"
   ]
  },
  {
   "cell_type": "code",
   "execution_count": null,
   "metadata": {},
   "outputs": [],
   "source": [
    "def plot_robinson(lon, lat, data, dict_plt):\n",
    "    plt.figure(figsize=[15, 10])\n",
    "    ax = plt.axes(projection=ccrs.Robinson(central_longitude=180))\n",
    "    C = plt.contourf(lon, lat, data, np.arange(dict_plt['vmin'], dict_plt['vmax'], dict_plt['cstep']),\n",
    "                     cmap=dict_plt['cmap'],\n",
    "                     transform=ccrs.PlateCarree())\n",
    "    plt.colorbar(C, shrink=0.6)\n",
    "    ax.coastlines()\n",
    "    ax.stock_img()\n",
    "    \n",
    "    # add the nino3.4 box\n",
    "    plt.plot(-170 * np.ones(11), np.arange(-5,5+1),'k--', transform=ccrs.PlateCarree())\n",
    "    plt.plot(-120 * np.ones(11), np.arange(-5,5+1),'k--', transform=ccrs.PlateCarree())\n",
    "    plt.plot(np.arange(-170,-120+5,5), 5 * np.ones(11),'k--', transform=ccrs.PlateCarree())\n",
    "    plt.plot(np.arange(-170,-120+5,5), -5 * np.ones(11),'k--', transform=ccrs.PlateCarree())\n",
    "\n",
    "def resample(dataarray, hres=1):\n",
    "    ''' resample the tripolar grid onto a regular grid for plotting purpose only'''\n",
    "    # input grid\n",
    "    lons_in = dataarray['longitude'].values.ravel()\n",
    "    lons_in[np.where(lons_in > 180)] -= 360\n",
    "    lats_in = dataarray['latitude'].values.ravel()\n",
    "\n",
    "    grid_src = pyresample.geometry.SwathDefinition(lons=lons_in, lats=lats_in)\n",
    "\n",
    "    # output grid\n",
    "    lon = np.arange(-180, 180, hres) + hres/2\n",
    "    lat = np.arange(-90, 90, hres) + hres/2\n",
    "    lon_out, lat_out = np.meshgrid(lon, lat)\n",
    "\n",
    "    grid_target = pyresample.geometry.GridDefinition(lons=lon_out,\n",
    "                                                      lats=lat_out)\n",
    "\n",
    "    data = pyresample.kd_tree.resample_nearest(grid_src, dataarray.values,\n",
    "                                                grid_target,\n",
    "                                                radius_of_influence=100000,\n",
    "                                                fill_value=0)\n",
    "    return lon, lat, data"
   ]
  },
  {
   "cell_type": "markdown",
   "metadata": {},
   "source": [
    "## SST plot for June 1967"
   ]
  },
  {
   "cell_type": "code",
   "execution_count": null,
   "metadata": {},
   "outputs": [],
   "source": [
    "lon, lat, data = resample(ds.sel(time='1967-06')['tos'].squeeze('time'), hres=1)\n",
    "dict_plt= {'vmin': -2, 'vmax': 32, 'cstep': 0.5, 'cmap': cm.gist_ncar}\n",
    "plot_robinson(lon, lat, data, dict_plt)"
   ]
  },
  {
   "cell_type": "markdown",
   "metadata": {},
   "source": [
    "### Functions for spatial averaging with xarray"
   ]
  },
  {
   "cell_type": "code",
   "execution_count": null,
   "metadata": {},
   "outputs": [],
   "source": [
    "def compute_area(dataset):\n",
    "    ''' compute cell area.\n",
    "    close to the equator the grid is mercator type so we don't need to\n",
    "    correct for grid cell rotation/distortion\n",
    "    \n",
    "    vertices are located at the corners of the cell as follows:\n",
    "    \n",
    "    North\n",
    "    \n",
    "    3 --- 2\n",
    "    |     |\n",
    " W  |     | E\n",
    "    0 --- 1\n",
    "    \n",
    "    South\n",
    "    \n",
    "    \n",
    "    '''\n",
    "    Rearth = 6378000. #meters\n",
    "    deg2rad = np.pi / 180\n",
    "    \n",
    "    lat_center_point = 0.5 * (dataset['vertices_latitude'].isel(vertices=1) + dataset['vertices_latitude'].isel(vertices=2))\n",
    "    dlon = dataset['vertices_longitude'].isel(vertices=1) - dataset['vertices_longitude'].isel(vertices=0)\n",
    "    dlat = dataset['vertices_latitude'].isel(vertices=2) - dataset['vertices_latitude'].isel(vertices=1)\n",
    "    \n",
    "    dx = Rearth * deg2rad * dlon * np.cos( deg2rad * lat_center_point)\n",
    "    dy = Rearth * deg2rad * dlat\n",
    "    \n",
    "    dataset['area'] = dx * dy \n",
    "    return dataset"
   ]
  },
  {
   "cell_type": "code",
   "execution_count": null,
   "metadata": {},
   "outputs": [],
   "source": [
    "def avg2d(dataarray, cell_area):\n",
    "    ''' compute horizontal spatial average'''\n",
    "    out = (dataarray * cell_area).sum(dim=['x','y']) / \\\n",
    "    (cell_area).where(dataarray.fillna(-9999) != -9999).sum(dim=['x','y'])\n",
    "    return out"
   ]
  },
  {
   "cell_type": "markdown",
   "metadata": {},
   "source": [
    "## Compute the climatology in the nino3.4 box"
   ]
  },
  {
   "cell_type": "markdown",
   "metadata": {},
   "source": [
    "### monthly climatology"
   ]
  },
  {
   "cell_type": "markdown",
   "metadata": {},
   "source": [
    "extract the area of interest, using where conditions. It would be more elegant if longitude/latitude where dimensions (i.e 1d). \n",
    "In this case, we could use ds['tos'].sel(longitude=slice(lonmin,lonmax),latitude=slice(latmin, latmax))"
   ]
  },
  {
   "cell_type": "code",
   "execution_count": null,
   "metadata": {},
   "outputs": [],
   "source": [
    "nino34_box = ds['tos'].where(ds['longitude'] >= 360-170).where(ds['longitude'] <= 360-120).where(ds['latitude'] >= -5).where(ds['latitude'] <= 5)"
   ]
  },
  {
   "cell_type": "markdown",
   "metadata": {},
   "source": [
    "Compute the monthly climatology: group by month, then average along time axis."
   ]
  },
  {
   "cell_type": "code",
   "execution_count": null,
   "metadata": {},
   "outputs": [],
   "source": [
    "clim_nino34_box = nino34_box.groupby(nino34_box.time.dt.month).mean(dim='time')"
   ]
  },
  {
   "cell_type": "markdown",
   "metadata": {},
   "source": [
    "### compute the spatial average"
   ]
  },
  {
   "cell_type": "markdown",
   "metadata": {},
   "source": [
    "First we need to add the area of the cells to the dataset:"
   ]
  },
  {
   "cell_type": "code",
   "execution_count": null,
   "metadata": {},
   "outputs": [],
   "source": [
    "ds = compute_area(ds)"
   ]
  },
  {
   "cell_type": "markdown",
   "metadata": {},
   "source": [
    "Then we can compute the spatial average with the function defined above to compute the climatology in the nino3.4 box"
   ]
  },
  {
   "cell_type": "code",
   "execution_count": null,
   "metadata": {},
   "outputs": [],
   "source": [
    "clim_nino34_box_timeserie = avg2d(clim_nino34_box, ds['area'])"
   ]
  },
  {
   "cell_type": "markdown",
   "metadata": {},
   "source": [
    "Plot the result:"
   ]
  },
  {
   "cell_type": "code",
   "execution_count": null,
   "metadata": {},
   "outputs": [],
   "source": [
    "clim_nino34_box_timeserie.plot()"
   ]
  },
  {
   "cell_type": "markdown",
   "metadata": {},
   "source": [
    "## Compute the anomaly"
   ]
  },
  {
   "cell_type": "markdown",
   "metadata": {},
   "source": [
    "Compute the anomaly:"
   ]
  },
  {
   "cell_type": "code",
   "execution_count": null,
   "metadata": {},
   "outputs": [],
   "source": [
    "anomaly_nino34box = nino34_box.groupby(nino34_box.time.dt.month) - clim_nino34_box"
   ]
  },
  {
   "cell_type": "markdown",
   "metadata": {},
   "source": [
    "Run the spatial average:"
   ]
  },
  {
   "cell_type": "code",
   "execution_count": null,
   "metadata": {},
   "outputs": [],
   "source": [
    "anomaly_nino34box_timeserie = avg2d(anomaly_nino34box, ds['area'])"
   ]
  },
  {
   "cell_type": "markdown",
   "metadata": {},
   "source": [
    "plot:"
   ]
  },
  {
   "cell_type": "code",
   "execution_count": null,
   "metadata": {},
   "outputs": [],
   "source": [
    "anomaly_nino34box_timeserie.plot()"
   ]
  },
  {
   "cell_type": "code",
   "execution_count": null,
   "metadata": {},
   "outputs": [],
   "source": []
  }
 ],
 "metadata": {
  "kernelspec": {
   "display_name": "Python3 (production2)",
   "language": "python",
   "name": "production2"
  },
  "language_info": {
   "codemirror_mode": {
    "name": "ipython",
    "version": 3
   },
   "file_extension": ".py",
   "mimetype": "text/x-python",
   "name": "python",
   "nbconvert_exporter": "python",
   "pygments_lexer": "ipython3",
   "version": "3.6.7"
  }
 },
 "nbformat": 4,
 "nbformat_minor": 2
}
